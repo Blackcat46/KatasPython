{
 "cells": [
  {
   "cell_type": "markdown",
   "metadata": {},
   "source": [
    "1.-Un asteroide se acerca, y viaja a una velocidad de 49 km/s."
   ]
  },
  {
   "cell_type": "code",
   "execution_count": 12,
   "metadata": {},
   "outputs": [
    {
     "name": "stdout",
     "output_type": "stream",
     "text": [
      "Un asteroide se acerca a mas de 25km/h a la Tierra\n"
     ]
    }
   ],
   "source": [
    "a = 49\n",
    "if a > 25:\n",
    "    print(\"Un asteroide se acerca a mas de 25km/s a la Tierra\")"
   ]
  },
  {
   "cell_type": "markdown",
   "metadata": {},
   "source": [
    "2.-Asteroide entra en la atmósfera de la Tierra a una velocidad mayor o igual a 20 km/s"
   ]
  },
  {
   "cell_type": "code",
   "execution_count": 41,
   "metadata": {},
   "outputs": [
    {
     "name": "stdout",
     "output_type": "stream",
     "text": [
      "Un asteroide se acerca a menos de 25km/s pero ha entrado a la atmosfera de la Tierra a una velocidad mayor o igual que 20 km/s puedes ver un rayo de luz\n"
     ]
    }
   ],
   "source": [
    "a = 25  #Velocidad del asteroide\n",
    "b = 20  #Maxima velocidad a la que puede entrar el asteroide para ver una luz \n",
    "c = 25  #Maxima velocidad de un asteroide para emitir una alerta\n",
    "if a > c:\n",
    "    print(\"Un asteroide se acerca a mas de 25km/s y ha entrado a la atmosfera de la Tierra a una velocidad mayor o igual que 20 km/s puedes ver un rayo de luz\")\n",
    "elif a <= c:\n",
    "    if a >= b:\n",
    "        print(\"Un asteroide se acerca a menos de 25km/s pero ha entrado a la atmosfera de la Tierra a una velocidad mayor o igual que 20 km/s puedes ver un rayo de luz\")\n",
    "    else:\n",
    "        print(\"Un asteroide se acerca a menos de 25km/s y no puedes ver un rayo de luz\")"
   ]
  },
  {
   "cell_type": "markdown",
   "metadata": {},
   "source": [
    "3.-Diamtero del Asteroide"
   ]
  },
  {
   "cell_type": "code",
   "execution_count": 46,
   "metadata": {},
   "outputs": [
    {
     "name": "stdout",
     "output_type": "stream",
     "text": [
      "Un asteroide se acerca a menos de 25km/s pero ha entrado a la atmosfera de la Tierra a una velocidad mayor o igual que 20 km/s puedes ver un rayo de luz\n",
      "Se acerca un asteroide con consecuencias graves\n"
     ]
    }
   ],
   "source": [
    "a = 25  #Velocidad del asteroide\n",
    "b = 20  #Maxima velocidad a la que puede entrar el asteroide para ver una luz \n",
    "c = 25  #Maxima velocidad de un asteroide para emitir una alerta\n",
    "d = 26  #Tamaño del asteroide\n",
    "if a > c:\n",
    "    print(\"Un asteroide se acerca a mas de 25km/s y ha entrado a la atmosfera de la Tierra a una velocidad mayor o igual que 20 km/s puedes ver un rayo de luz\")\n",
    "elif a <= c:\n",
    "    if a >= b:\n",
    "        print(\"Un asteroide se acerca a menos de 25km/s pero ha entrado a la atmosfera de la Tierra a una velocidad mayor o igual que 20 km/s puedes ver un rayo de luz\")\n",
    "    else:\n",
    "        print(\"Un asteroide se acerca a menos de 25km/s y no puedes ver un rayo de luz\")\n",
    "if d > 25 and d < 1000:\n",
    "    print(\"Se acerca un asteroide con consecuencias graves\")"
   ]
  }
 ],
 "metadata": {
  "interpreter": {
   "hash": "8a48770bb3c76ada6ec5eec9b53a504a3323976b81e1d1b6d1fc077cb2f95093"
  },
  "kernelspec": {
   "display_name": "Python 3.10.2 64-bit",
   "language": "python",
   "name": "python3"
  },
  "language_info": {
   "codemirror_mode": {
    "name": "ipython",
    "version": 3
   },
   "file_extension": ".py",
   "mimetype": "text/x-python",
   "name": "python",
   "nbconvert_exporter": "python",
   "pygments_lexer": "ipython3",
   "version": "3.10.2"
  },
  "orig_nbformat": 4
 },
 "nbformat": 4,
 "nbformat_minor": 2
}
