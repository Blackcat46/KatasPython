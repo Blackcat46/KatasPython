{
 "cells": [
  {
   "cell_type": "markdown",
   "metadata": {},
   "source": [
    "Ejercicio 1: Trabajar con argumentos en funciones"
   ]
  },
  {
   "cell_type": "code",
   "execution_count": 18,
   "metadata": {},
   "outputs": [
    {
     "name": "stdout",
     "output_type": "stream",
     "text": [
      "Reporte:\n",
      "    Promedio: 77.0%\n",
      "    Tanque 1: 66%\n",
      "    Tanque 2: 88%\n",
      "    Tanque 3: 77% \n",
      "    \n",
      "Reporte:\n",
      "    Promedio: 59.333333333333336%\n",
      "    Tanque 1: 33%\n",
      "    Tanque 2: 56%\n",
      "    Tanque 3: 89% \n",
      "    \n"
     ]
    }
   ],
   "source": [
    "def informe(combustible_1, combustible_2, combustible_3):\n",
    "    promedio = (combustible_1 + combustible_2 + combustible_3) / 3\n",
    "    return f\"\"\"Reporte:\n",
    "    Promedio: {promedio}%\n",
    "    Tanque 1: {combustible_1}%\n",
    "    Tanque 2: {combustible_2}%\n",
    "    Tanque 3: {combustible_3}% \n",
    "    \"\"\"\n",
    "print(informe(66, 88, 77))\n",
    "\n",
    "def promedio(values):\n",
    "    total = sum(values)\n",
    "    number_of_items = len(values)\n",
    "    return total / number_of_items\n",
    "\n",
    "promedio([30, 60, 50]) \n",
    "\n",
    "def informe(combustible_1, combustible_2, combustible_3):\n",
    "    return f\"\"\"Reporte:\n",
    "    Promedio: {promedio([combustible_1, combustible_2, combustible_3])}%\n",
    "    Tanque 1: {combustible_1}%\n",
    "    Tanque 2: {combustible_2}%\n",
    "    Tanque 3: {combustible_3}% \n",
    "    \"\"\"\n",
    "\n",
    "print(informe(33, 56, 89))"
   ]
  },
  {
   "cell_type": "markdown",
   "metadata": {},
   "source": [
    "Ejercicio 2: Trabajo con argumentos de palabra clave"
   ]
  },
  {
   "cell_type": "code",
   "execution_count": 19,
   "metadata": {},
   "outputs": [
    {
     "name": "stdout",
     "output_type": "stream",
     "text": [
      "\n",
      "    Destino: Marte\n",
      "    Tiempo: 42 \n",
      "    Combustible: 3000000 \n",
      "    \n",
      "\n",
      "    Destino: Marte\n",
      "    Tiempo: 124 \n",
      "    Combustible: 879000\n",
      "    \n",
      "\n",
      "    Destino Marte\n",
      "    Tiempo: 100\n",
      "    Combustible: 1770000\n",
      "    main tank --> 780000\n",
      "external tank --> 990000\n",
      "\n"
     ]
    }
   ],
   "source": [
    "def informe(prelanzamiento, tiempo_de_vuelo, destino, tanque_exterior, tanque_principal):\n",
    "    return f\"\"\"\n",
    "    Destino: {destino}\n",
    "    Tiempo: {prelanzamiento + tiempo_de_vuelo} \n",
    "    Combustible: {tanque_exterior + tanque_principal} \n",
    "    \"\"\"\n",
    "\n",
    "print(informe(9, 33, \"Marte\", 1000000, 2000000))\n",
    "\n",
    "def informe(destino, *minutos, **reserva_combustible):\n",
    "    return f\"\"\"\n",
    "    Destino: {destino}\n",
    "    Tiempo: {sum(minutos)} \n",
    "    Combustible: {sum(reserva_combustible.values())}\n",
    "    \"\"\"\n",
    "\n",
    "print(informe(\"Marte\", 18, 55, 51, main=780000, external=99000))\n",
    "\n",
    "def informe(destino, *minutos, **reserva_combustible):\n",
    "    main_report = f\"\"\"\n",
    "    Destino {destino}\n",
    "    Tiempo: {sum(minutos)}\n",
    "    Combustible: {sum(reserva_combustible.values())}\n",
    "    \"\"\"\n",
    "    for tank_name, litros in reserva_combustible.items():\n",
    "        main_report += f\"{tank_name} tank --> {litros}\\n\"\n",
    "    return main_report\n",
    "\n",
    "print(informe(\"Marte\", 45, 20, 35, main=780000, external=990000))"
   ]
  }
 ],
 "metadata": {
  "interpreter": {
   "hash": "8a48770bb3c76ada6ec5eec9b53a504a3323976b81e1d1b6d1fc077cb2f95093"
  },
  "kernelspec": {
   "display_name": "Python 3.10.2 64-bit",
   "language": "python",
   "name": "python3"
  },
  "language_info": {
   "codemirror_mode": {
    "name": "ipython",
    "version": 3
   },
   "file_extension": ".py",
   "mimetype": "text/x-python",
   "name": "python",
   "nbconvert_exporter": "python",
   "pygments_lexer": "ipython3",
   "version": "3.10.2"
  },
  "orig_nbformat": 4
 },
 "nbformat": 4,
 "nbformat_minor": 2
}
